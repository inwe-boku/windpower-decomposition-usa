{
 "cells": [
  {
   "cell_type": "markdown",
   "id": "46053715",
   "metadata": {},
   "source": [
    "# Estimate loss correction factor"
   ]
  },
  {
   "cell_type": "code",
   "execution_count": 1,
   "id": "a49dc93d",
   "metadata": {
    "ExecuteTime": {
     "end_time": "2022-07-05T10:38:59.035056Z",
     "start_time": "2022-07-05T10:38:57.982282Z"
    }
   },
   "outputs": [],
   "source": [
    "from init import *"
   ]
  },
  {
   "cell_type": "code",
   "execution_count": 2,
   "id": "c33e6411-a639-43f4-845a-63243e1d4ac1",
   "metadata": {},
   "outputs": [],
   "source": [
    "from src.loaded_files import *"
   ]
  },
  {
   "cell_type": "code",
   "execution_count": 3,
   "id": "5ea595f1",
   "metadata": {
    "ExecuteTime": {
     "end_time": "2022-07-05T10:39:00.285764Z",
     "start_time": "2022-07-05T10:39:00.271306Z"
    }
   },
   "outputs": [],
   "source": [
    "matplotlib.rc('figure', figsize=(15, 10))"
   ]
  },
  {
   "cell_type": "code",
   "execution_count": 4,
   "id": "4738accd",
   "metadata": {
    "ExecuteTime": {
     "end_time": "2022-07-05T10:39:03.749510Z",
     "start_time": "2022-07-05T10:39:00.691207Z"
    }
   },
   "outputs": [],
   "source": [
    "p_out_model = load_p_out_model()\n",
    "p_out_eia = load_p_out_eia()"
   ]
  },
  {
   "cell_type": "code",
   "execution_count": 5,
   "id": "c16d43ef-e9c3-48c3-9651-085a642d167c",
   "metadata": {},
   "outputs": [],
   "source": [
    "loss_correction_factor, _, _, _ = np.linalg.lstsq(\n",
    "    (p_out_model / LOSS_CORRECTION_FACTOR / rotor_swept_area)\n",
    "    .isel(time=p_out_model.time.dt.year >= 2008)\n",
    "    .values[:, np.newaxis],\n",
    "    (load_p_out_eia() / rotor_swept_area).isel(time=p_out_model.time.dt.year >= 2008),\n",
    "    rcond=None,\n",
    ")"
   ]
  },
  {
   "cell_type": "code",
   "execution_count": 6,
   "id": "6b756d6e-9979-4e38-802e-a03917393ec5",
   "metadata": {},
   "outputs": [
    {
     "data": {
      "text/plain": [
       "0.8890028225626951"
      ]
     },
     "execution_count": 6,
     "metadata": {},
     "output_type": "execute_result"
    }
   ],
   "source": [
    "float(loss_correction_factor)"
   ]
  }
 ],
 "metadata": {
  "kernelspec": {
   "display_name": "Python [conda env:.conda-wind_power_decomposition_usa]",
   "language": "python",
   "name": "conda-env-.conda-wind_power_decomposition_usa-py"
  },
  "language_info": {
   "codemirror_mode": {
    "name": "ipython",
    "version": 3
   },
   "file_extension": ".py",
   "mimetype": "text/x-python",
   "name": "python",
   "nbconvert_exporter": "python",
   "pygments_lexer": "ipython3",
   "version": "3.8.13"
  }
 },
 "nbformat": 4,
 "nbformat_minor": 5
}
