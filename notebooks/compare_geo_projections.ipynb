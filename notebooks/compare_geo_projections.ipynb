{
 "cells": [
  {
   "cell_type": "markdown",
   "metadata": {},
   "source": [
    "# Compare different Geo projections\n",
    "\n",
    "[ERA5 is in WGS84 which is equivalent to EPSG:4326](https://confluence.ecmwf.int/display/CKB/ERA5%3A+data+documentation#heading-Spatialreferencesystems).\n",
    "\n",
    "[USWTDB provides coordinats in the NAD 83 format](https://eerscmap.usgs.gov/uswtdb/assets/data/uswtdb_v5_1_20220729.xml) (see link to latest [metadata xml here](https://eerscmap.usgs.gov/uswtdb/data/)).\n",
    "\n",
    "We did not reproject coordinates, but this should not be a problem as differences are very small as shown in this notebook."
   ]
  },
  {
   "cell_type": "code",
   "execution_count": 1,
   "metadata": {
    "ExecuteTime": {
     "end_time": "2022-01-18T09:35:47.245772Z",
     "start_time": "2022-01-18T09:35:45.968340Z"
    }
   },
   "outputs": [],
   "source": [
    "from init import *"
   ]
  },
  {
   "cell_type": "code",
   "execution_count": 2,
   "metadata": {
    "ExecuteTime": {
     "end_time": "2022-01-18T09:43:45.418029Z",
     "start_time": "2022-01-18T09:43:45.243196Z"
    }
   },
   "outputs": [],
   "source": [
    "import geopandas"
   ]
  },
  {
   "cell_type": "code",
   "execution_count": 3,
   "metadata": {
    "ExecuteTime": {
     "end_time": "2022-01-18T09:43:46.089139Z",
     "start_time": "2022-01-18T09:43:46.070328Z"
    }
   },
   "outputs": [],
   "source": [
    "matplotlib.rc('figure', figsize=(17, 14))"
   ]
  },
  {
   "cell_type": "code",
   "execution_count": 4,
   "metadata": {
    "ExecuteTime": {
     "end_time": "2022-01-18T09:43:48.649834Z",
     "start_time": "2022-01-18T09:43:46.287571Z"
    }
   },
   "outputs": [],
   "source": [
    "turbines = load_turbines()"
   ]
  },
  {
   "cell_type": "code",
   "execution_count": 5,
   "metadata": {
    "ExecuteTime": {
     "end_time": "2022-01-18T09:43:50.501545Z",
     "start_time": "2022-01-18T09:43:48.651242Z"
    }
   },
   "outputs": [],
   "source": [
    "points = geopandas.GeoSeries(geopandas.points_from_xy(turbines.xlong, turbines.ylat))"
   ]
  },
  {
   "cell_type": "code",
   "execution_count": 6,
   "metadata": {
    "ExecuteTime": {
     "end_time": "2022-01-18T09:43:50.518488Z",
     "start_time": "2022-01-18T09:43:50.502664Z"
    }
   },
   "outputs": [],
   "source": [
    "points = points.set_crs('NAD 83')"
   ]
  },
  {
   "cell_type": "code",
   "execution_count": 7,
   "metadata": {
    "ExecuteTime": {
     "end_time": "2022-01-18T09:44:17.591860Z",
     "start_time": "2022-01-18T09:43:50.519997Z"
    }
   },
   "outputs": [],
   "source": [
    "points_wsg84 = points.to_crs(\"EPSG:4326\")"
   ]
  },
  {
   "cell_type": "code",
   "execution_count": 8,
   "metadata": {
    "ExecuteTime": {
     "end_time": "2022-01-18T09:44:17.608387Z",
     "start_time": "2022-01-18T09:44:17.593066Z"
    },
    "lines_to_next_cell": 2
   },
   "outputs": [],
   "source": [
    "def geolocation_distances(locations1, locations2):\n",
    "    \"\"\"Calculate the pairwise distances for geo locations given in lat/long.\n",
    "\n",
    "    Parameters\n",
    "    ----------\n",
    "    locations : np.ndarray\n",
    "        with shape (N, 2) - in lat/long\n",
    "\n",
    "    Returns\n",
    "    -------\n",
    "    distance matrix in km of shape (N, N) (symmetric, 0. entries in diagonal)\n",
    "\n",
    "    \"\"\"\n",
    "    # FIXME do we need to take care about different coordinate systems or so?\n",
    "    # FIXME this is not very heavily tested, not sure about correctness, numerical stability etc\n",
    "    # TODO performance can be improved at least by factor2, ATM it calculates the full (symmetric)\n",
    "    #  matrix for each element\n",
    "\n",
    "    # TODO use sklearn instead? seems to support haversine since DBSCAN can do it\n",
    "\n",
    "    # FIXME should we use something else instead of Haversine?\n",
    "    #  --> https://en.wikipedia.org/wiki/Vincenty%27s_formulae\n",
    "\n",
    "    locations_rad1 = np.radians(locations1)\n",
    "    latitudes1, longitudes1 = locations_rad1.T\n",
    "    \n",
    "    locations_rad2 = np.radians(locations2)\n",
    "    latitudes2, longitudes2 = locations_rad2.T\n",
    "\n",
    "    a = (np.sin((latitudes2 - latitudes1)/2)**2 + np.cos(latitudes1) *\n",
    "         np.cos(latitudes2) * np.sin((longitudes2 - longitudes1)/2)**2)\n",
    "    c = 2 * np.arctan2(np.sqrt(a), np.sqrt(1 - a))\n",
    "\n",
    "    return EARTH_RADIUS_KM * c\n",
    "\n",
    "# Average earth radius, see https://en.wikipedia.org/wiki/Earth_radius\n",
    "EARTH_RADIUS_KM = 6371.0088"
   ]
  },
  {
   "cell_type": "markdown",
   "metadata": {},
   "source": [
    "Maximum difference between the correctly reprojected points and the ones in NAD 83 are less than 3m apart:"
   ]
  },
  {
   "cell_type": "code",
   "execution_count": 9,
   "metadata": {
    "ExecuteTime": {
     "end_time": "2022-01-18T09:44:20.459547Z",
     "start_time": "2022-01-18T09:44:17.609580Z"
    }
   },
   "outputs": [
    {
     "data": {
      "text/plain": [
       "2.3145314912233443"
      ]
     },
     "execution_count": 9,
     "metadata": {},
     "output_type": "execute_result"
    }
   ],
   "source": [
    "(geolocation_distances(\n",
    "    np.array([points_wsg84.y, points_wsg84.x]).T,\n",
    "    np.array([points.y, points.x]).T\n",
    ") * 1e3).max()"
   ]
  },
  {
   "cell_type": "markdown",
   "metadata": {},
   "source": [
    "In average the distance is only 26cm:"
   ]
  },
  {
   "cell_type": "code",
   "execution_count": 10,
   "metadata": {
    "ExecuteTime": {
     "end_time": "2022-01-18T09:44:23.312553Z",
     "start_time": "2022-01-18T09:44:20.460713Z"
    }
   },
   "outputs": [
    {
     "data": {
      "text/plain": [
       "0.26327226511504265"
      ]
     },
     "execution_count": 10,
     "metadata": {},
     "output_type": "execute_result"
    }
   ],
   "source": [
    "(geolocation_distances(\n",
    "    np.array([points_wsg84.x, points_wsg84.y]).T,\n",
    "    np.array([points.x, points.y]).T\n",
    ") * 1e3).mean()"
   ]
  }
 ],
 "metadata": {
  "kernelspec": {
   "display_name": "Python [conda env:.conda-wind_power_decomposition_usa]",
   "language": "python",
   "name": "conda-env-.conda-wind_power_decomposition_usa-py"
  },
  "language_info": {
   "codemirror_mode": {
    "name": "ipython",
    "version": 3
   },
   "file_extension": ".py",
   "mimetype": "text/x-python",
   "name": "python",
   "nbconvert_exporter": "python",
   "pygments_lexer": "ipython3",
   "version": "3.8.13"
  }
 },
 "nbformat": 4,
 "nbformat_minor": 4
}
